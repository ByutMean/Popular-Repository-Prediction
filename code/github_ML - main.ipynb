{
 "cells": [
  {
   "cell_type": "code",
   "execution_count": 1,
   "id": "27c8ebb9",
   "metadata": {},
   "outputs": [],
   "source": [
    "import pandas as pd\n",
    "from tqdm.notebook import tqdm\n",
    "from pandas import Series\n",
    "data=pd.read_excel('git_data.xlsx') "
   ]
  },
  {
   "cell_type": "code",
   "execution_count": 2,
   "id": "b1ff7183",
   "metadata": {},
   "outputs": [],
   "source": [
    "import numpy as np\n",
    "import sklearn.metrics as metrics\n",
    "from sklearn.metrics import auc\n",
    "from sklearn.metrics import roc_curve\n"
   ]
  },
  {
   "cell_type": "code",
   "execution_count": 4,
   "id": "2a30347e",
   "metadata": {},
   "outputs": [],
   "source": [
    "new_pr_open=[]\n",
    "for i in data['r_pr_open']:\n",
    "    if str(i)=='nan':\n",
    "        i=0.0\n",
    "    else:\n",
    "        i=i\n",
    "    new_pr_open.append(i)"
   ]
  },
  {
   "cell_type": "code",
   "execution_count": 5,
   "id": "0d8e0bdd",
   "metadata": {},
   "outputs": [],
   "source": [
    "data['r_pr_open']=new_pr_open"
   ]
  },
  {
   "cell_type": "code",
   "execution_count": 7,
   "id": "96f388fc",
   "metadata": {},
   "outputs": [],
   "source": [
    "def dummy_data(data, columns) :\n",
    "    for column in columns:\n",
    "        data = pd.concat([data, pd.get_dummies(data[column], prefix = column)], axis=1)\n",
    "        data = data.drop(column, axis=1)\n",
    "    return data"
   ]
  },
  {
   "cell_type": "code",
   "execution_count": 8,
   "id": "305ebd66",
   "metadata": {},
   "outputs": [],
   "source": [
    "dummy_columns=['o_type']\n",
    "new_data = dummy_data(data, dummy_columns)"
   ]
  },
  {
   "cell_type": "markdown",
   "id": "6e1782c3",
   "metadata": {},
   "source": [
    "### -----------------전처리---------------"
   ]
  },
  {
   "cell_type": "code",
   "execution_count": 12,
   "id": "55742007",
   "metadata": {},
   "outputs": [
    {
     "data": {
      "text/html": [
       "<div>\n",
       "<style scoped>\n",
       "    .dataframe tbody tr th:only-of-type {\n",
       "        vertical-align: middle;\n",
       "    }\n",
       "\n",
       "    .dataframe tbody tr th {\n",
       "        vertical-align: top;\n",
       "    }\n",
       "\n",
       "    .dataframe thead th {\n",
       "        text-align: right;\n",
       "    }\n",
       "</style>\n",
       "<table border=\"1\" class=\"dataframe\">\n",
       "  <thead>\n",
       "    <tr style=\"text-align: right;\">\n",
       "      <th></th>\n",
       "      <th>y_stars10</th>\n",
       "    </tr>\n",
       "  </thead>\n",
       "  <tbody>\n",
       "    <tr>\n",
       "      <th>0</th>\n",
       "      <td>1</td>\n",
       "    </tr>\n",
       "    <tr>\n",
       "      <th>1</th>\n",
       "      <td>1</td>\n",
       "    </tr>\n",
       "    <tr>\n",
       "      <th>2</th>\n",
       "      <td>1</td>\n",
       "    </tr>\n",
       "    <tr>\n",
       "      <th>3</th>\n",
       "      <td>1</td>\n",
       "    </tr>\n",
       "    <tr>\n",
       "      <th>4</th>\n",
       "      <td>1</td>\n",
       "    </tr>\n",
       "    <tr>\n",
       "      <th>...</th>\n",
       "      <td>...</td>\n",
       "    </tr>\n",
       "    <tr>\n",
       "      <th>9775</th>\n",
       "      <td>0</td>\n",
       "    </tr>\n",
       "    <tr>\n",
       "      <th>9776</th>\n",
       "      <td>0</td>\n",
       "    </tr>\n",
       "    <tr>\n",
       "      <th>9777</th>\n",
       "      <td>0</td>\n",
       "    </tr>\n",
       "    <tr>\n",
       "      <th>9778</th>\n",
       "      <td>0</td>\n",
       "    </tr>\n",
       "    <tr>\n",
       "      <th>9779</th>\n",
       "      <td>0</td>\n",
       "    </tr>\n",
       "  </tbody>\n",
       "</table>\n",
       "<p>9780 rows × 1 columns</p>\n",
       "</div>"
      ],
      "text/plain": [
       "      y_stars10\n",
       "0             1\n",
       "1             1\n",
       "2             1\n",
       "3             1\n",
       "4             1\n",
       "...         ...\n",
       "9775          0\n",
       "9776          0\n",
       "9777          0\n",
       "9778          0\n",
       "9779          0\n",
       "\n",
       "[9780 rows x 1 columns]"
      ]
     },
     "execution_count": 12,
     "metadata": {},
     "output_type": "execute_result"
    }
   ],
   "source": [
    "y=data.iloc[:,30:31]\n",
    "y"
   ]
  },
  {
   "cell_type": "code",
   "execution_count": 13,
   "id": "2debef29",
   "metadata": {},
   "outputs": [],
   "source": [
    "del new_data['y_stars10']"
   ]
  },
  {
   "cell_type": "code",
   "execution_count": 14,
   "id": "3cac7425",
   "metadata": {},
   "outputs": [],
   "source": [
    "del new_data['r_main_language']"
   ]
  },
  {
   "cell_type": "code",
   "execution_count": 15,
   "id": "cee71c50",
   "metadata": {},
   "outputs": [
    {
     "data": {
      "text/html": [
       "<div>\n",
       "<style scoped>\n",
       "    .dataframe tbody tr th:only-of-type {\n",
       "        vertical-align: middle;\n",
       "    }\n",
       "\n",
       "    .dataframe tbody tr th {\n",
       "        vertical-align: top;\n",
       "    }\n",
       "\n",
       "    .dataframe thead th {\n",
       "        text-align: right;\n",
       "    }\n",
       "</style>\n",
       "<table border=\"1\" class=\"dataframe\">\n",
       "  <thead>\n",
       "    <tr style=\"text-align: right;\">\n",
       "      <th></th>\n",
       "      <th>r_forks</th>\n",
       "      <th>r_watch</th>\n",
       "      <th>r_open_issues</th>\n",
       "      <th>r_total_issue</th>\n",
       "      <th>r_tag_num</th>\n",
       "      <th>r_pr_open</th>\n",
       "      <th>r_pr_total</th>\n",
       "      <th>r_num_language</th>\n",
       "      <th>r_readme_trend</th>\n",
       "      <th>r_description_trend</th>\n",
       "      <th>...</th>\n",
       "      <th>c_commit_avg</th>\n",
       "      <th>c_descriptionsize_avg</th>\n",
       "      <th>c_gits_avg</th>\n",
       "      <th>c_followers_avg</th>\n",
       "      <th>c_following_avg</th>\n",
       "      <th>c_star_avg</th>\n",
       "      <th>c_repos_avg</th>\n",
       "      <th>c_commit_active</th>\n",
       "      <th>o_type_Organization</th>\n",
       "      <th>o_type_User</th>\n",
       "    </tr>\n",
       "  </thead>\n",
       "  <tbody>\n",
       "    <tr>\n",
       "      <th>0</th>\n",
       "      <td>557</td>\n",
       "      <td>115</td>\n",
       "      <td>316</td>\n",
       "      <td>611</td>\n",
       "      <td>7</td>\n",
       "      <td>37.0</td>\n",
       "      <td>694</td>\n",
       "      <td>5</td>\n",
       "      <td>67</td>\n",
       "      <td>1</td>\n",
       "      <td>...</td>\n",
       "      <td>98.2</td>\n",
       "      <td>64.6</td>\n",
       "      <td>6.6</td>\n",
       "      <td>61.2</td>\n",
       "      <td>8.6</td>\n",
       "      <td>78.6</td>\n",
       "      <td>32.0</td>\n",
       "      <td>709.2</td>\n",
       "      <td>1</td>\n",
       "      <td>0</td>\n",
       "    </tr>\n",
       "    <tr>\n",
       "      <th>1</th>\n",
       "      <td>262</td>\n",
       "      <td>45</td>\n",
       "      <td>17</td>\n",
       "      <td>23</td>\n",
       "      <td>0</td>\n",
       "      <td>0.0</td>\n",
       "      <td>49</td>\n",
       "      <td>1</td>\n",
       "      <td>6</td>\n",
       "      <td>1</td>\n",
       "      <td>...</td>\n",
       "      <td>0.0</td>\n",
       "      <td>0.0</td>\n",
       "      <td>0.0</td>\n",
       "      <td>0.0</td>\n",
       "      <td>0.0</td>\n",
       "      <td>0.0</td>\n",
       "      <td>0.0</td>\n",
       "      <td>0.0</td>\n",
       "      <td>0</td>\n",
       "      <td>1</td>\n",
       "    </tr>\n",
       "    <tr>\n",
       "      <th>2</th>\n",
       "      <td>179</td>\n",
       "      <td>5</td>\n",
       "      <td>3</td>\n",
       "      <td>10</td>\n",
       "      <td>0</td>\n",
       "      <td>2.0</td>\n",
       "      <td>9</td>\n",
       "      <td>1</td>\n",
       "      <td>0</td>\n",
       "      <td>0</td>\n",
       "      <td>...</td>\n",
       "      <td>0.0</td>\n",
       "      <td>0.0</td>\n",
       "      <td>0.0</td>\n",
       "      <td>0.0</td>\n",
       "      <td>0.0</td>\n",
       "      <td>0.0</td>\n",
       "      <td>0.0</td>\n",
       "      <td>0.0</td>\n",
       "      <td>0</td>\n",
       "      <td>1</td>\n",
       "    </tr>\n",
       "    <tr>\n",
       "      <th>3</th>\n",
       "      <td>167</td>\n",
       "      <td>33</td>\n",
       "      <td>77</td>\n",
       "      <td>112</td>\n",
       "      <td>7</td>\n",
       "      <td>37.0</td>\n",
       "      <td>1186</td>\n",
       "      <td>3</td>\n",
       "      <td>55</td>\n",
       "      <td>4</td>\n",
       "      <td>...</td>\n",
       "      <td>113.6</td>\n",
       "      <td>6.4</td>\n",
       "      <td>0.0</td>\n",
       "      <td>3.8</td>\n",
       "      <td>0.4</td>\n",
       "      <td>8.4</td>\n",
       "      <td>9.6</td>\n",
       "      <td>418.2</td>\n",
       "      <td>1</td>\n",
       "      <td>0</td>\n",
       "    </tr>\n",
       "    <tr>\n",
       "      <th>4</th>\n",
       "      <td>81</td>\n",
       "      <td>28</td>\n",
       "      <td>2</td>\n",
       "      <td>2</td>\n",
       "      <td>0</td>\n",
       "      <td>0.0</td>\n",
       "      <td>1</td>\n",
       "      <td>0</td>\n",
       "      <td>149</td>\n",
       "      <td>0</td>\n",
       "      <td>...</td>\n",
       "      <td>10.0</td>\n",
       "      <td>18.0</td>\n",
       "      <td>1.0</td>\n",
       "      <td>53.0</td>\n",
       "      <td>215.0</td>\n",
       "      <td>980.0</td>\n",
       "      <td>61.0</td>\n",
       "      <td>59.0</td>\n",
       "      <td>0</td>\n",
       "      <td>1</td>\n",
       "    </tr>\n",
       "    <tr>\n",
       "      <th>...</th>\n",
       "      <td>...</td>\n",
       "      <td>...</td>\n",
       "      <td>...</td>\n",
       "      <td>...</td>\n",
       "      <td>...</td>\n",
       "      <td>...</td>\n",
       "      <td>...</td>\n",
       "      <td>...</td>\n",
       "      <td>...</td>\n",
       "      <td>...</td>\n",
       "      <td>...</td>\n",
       "      <td>...</td>\n",
       "      <td>...</td>\n",
       "      <td>...</td>\n",
       "      <td>...</td>\n",
       "      <td>...</td>\n",
       "      <td>...</td>\n",
       "      <td>...</td>\n",
       "      <td>...</td>\n",
       "      <td>...</td>\n",
       "      <td>...</td>\n",
       "    </tr>\n",
       "    <tr>\n",
       "      <th>9775</th>\n",
       "      <td>0</td>\n",
       "      <td>1</td>\n",
       "      <td>0</td>\n",
       "      <td>0</td>\n",
       "      <td>0</td>\n",
       "      <td>0.0</td>\n",
       "      <td>0</td>\n",
       "      <td>2</td>\n",
       "      <td>0</td>\n",
       "      <td>0</td>\n",
       "      <td>...</td>\n",
       "      <td>0.0</td>\n",
       "      <td>0.0</td>\n",
       "      <td>0.0</td>\n",
       "      <td>0.0</td>\n",
       "      <td>0.0</td>\n",
       "      <td>0.0</td>\n",
       "      <td>0.0</td>\n",
       "      <td>0.0</td>\n",
       "      <td>0</td>\n",
       "      <td>1</td>\n",
       "    </tr>\n",
       "    <tr>\n",
       "      <th>9776</th>\n",
       "      <td>0</td>\n",
       "      <td>1</td>\n",
       "      <td>0</td>\n",
       "      <td>0</td>\n",
       "      <td>0</td>\n",
       "      <td>0.0</td>\n",
       "      <td>0</td>\n",
       "      <td>1</td>\n",
       "      <td>0</td>\n",
       "      <td>0</td>\n",
       "      <td>...</td>\n",
       "      <td>0.0</td>\n",
       "      <td>0.0</td>\n",
       "      <td>0.0</td>\n",
       "      <td>0.0</td>\n",
       "      <td>0.0</td>\n",
       "      <td>0.0</td>\n",
       "      <td>0.0</td>\n",
       "      <td>0.0</td>\n",
       "      <td>0</td>\n",
       "      <td>1</td>\n",
       "    </tr>\n",
       "    <tr>\n",
       "      <th>9777</th>\n",
       "      <td>0</td>\n",
       "      <td>1</td>\n",
       "      <td>0</td>\n",
       "      <td>0</td>\n",
       "      <td>0</td>\n",
       "      <td>0.0</td>\n",
       "      <td>0</td>\n",
       "      <td>0</td>\n",
       "      <td>22</td>\n",
       "      <td>1</td>\n",
       "      <td>...</td>\n",
       "      <td>0.0</td>\n",
       "      <td>0.0</td>\n",
       "      <td>0.0</td>\n",
       "      <td>0.0</td>\n",
       "      <td>0.0</td>\n",
       "      <td>0.0</td>\n",
       "      <td>0.0</td>\n",
       "      <td>0.0</td>\n",
       "      <td>0</td>\n",
       "      <td>1</td>\n",
       "    </tr>\n",
       "    <tr>\n",
       "      <th>9778</th>\n",
       "      <td>0</td>\n",
       "      <td>1</td>\n",
       "      <td>0</td>\n",
       "      <td>0</td>\n",
       "      <td>0</td>\n",
       "      <td>0.0</td>\n",
       "      <td>0</td>\n",
       "      <td>1</td>\n",
       "      <td>0</td>\n",
       "      <td>0</td>\n",
       "      <td>...</td>\n",
       "      <td>0.0</td>\n",
       "      <td>0.0</td>\n",
       "      <td>0.0</td>\n",
       "      <td>0.0</td>\n",
       "      <td>0.0</td>\n",
       "      <td>0.0</td>\n",
       "      <td>0.0</td>\n",
       "      <td>0.0</td>\n",
       "      <td>0</td>\n",
       "      <td>1</td>\n",
       "    </tr>\n",
       "    <tr>\n",
       "      <th>9779</th>\n",
       "      <td>1</td>\n",
       "      <td>1</td>\n",
       "      <td>0</td>\n",
       "      <td>0</td>\n",
       "      <td>0</td>\n",
       "      <td>0.0</td>\n",
       "      <td>0</td>\n",
       "      <td>2</td>\n",
       "      <td>9</td>\n",
       "      <td>0</td>\n",
       "      <td>...</td>\n",
       "      <td>0.0</td>\n",
       "      <td>0.0</td>\n",
       "      <td>0.0</td>\n",
       "      <td>0.0</td>\n",
       "      <td>0.0</td>\n",
       "      <td>0.0</td>\n",
       "      <td>0.0</td>\n",
       "      <td>0.0</td>\n",
       "      <td>0</td>\n",
       "      <td>1</td>\n",
       "    </tr>\n",
       "  </tbody>\n",
       "</table>\n",
       "<p>9780 rows × 29 columns</p>\n",
       "</div>"
      ],
      "text/plain": [
       "      r_forks  r_watch  r_open_issues  r_total_issue  r_tag_num  r_pr_open  \\\n",
       "0         557      115            316            611          7       37.0   \n",
       "1         262       45             17             23          0        0.0   \n",
       "2         179        5              3             10          0        2.0   \n",
       "3         167       33             77            112          7       37.0   \n",
       "4          81       28              2              2          0        0.0   \n",
       "...       ...      ...            ...            ...        ...        ...   \n",
       "9775        0        1              0              0          0        0.0   \n",
       "9776        0        1              0              0          0        0.0   \n",
       "9777        0        1              0              0          0        0.0   \n",
       "9778        0        1              0              0          0        0.0   \n",
       "9779        1        1              0              0          0        0.0   \n",
       "\n",
       "      r_pr_total  r_num_language  r_readme_trend  r_description_trend  ...  \\\n",
       "0            694               5              67                    1  ...   \n",
       "1             49               1               6                    1  ...   \n",
       "2              9               1               0                    0  ...   \n",
       "3           1186               3              55                    4  ...   \n",
       "4              1               0             149                    0  ...   \n",
       "...          ...             ...             ...                  ...  ...   \n",
       "9775           0               2               0                    0  ...   \n",
       "9776           0               1               0                    0  ...   \n",
       "9777           0               0              22                    1  ...   \n",
       "9778           0               1               0                    0  ...   \n",
       "9779           0               2               9                    0  ...   \n",
       "\n",
       "      c_commit_avg  c_descriptionsize_avg  c_gits_avg  c_followers_avg  \\\n",
       "0             98.2                   64.6         6.6             61.2   \n",
       "1              0.0                    0.0         0.0              0.0   \n",
       "2              0.0                    0.0         0.0              0.0   \n",
       "3            113.6                    6.4         0.0              3.8   \n",
       "4             10.0                   18.0         1.0             53.0   \n",
       "...            ...                    ...         ...              ...   \n",
       "9775           0.0                    0.0         0.0              0.0   \n",
       "9776           0.0                    0.0         0.0              0.0   \n",
       "9777           0.0                    0.0         0.0              0.0   \n",
       "9778           0.0                    0.0         0.0              0.0   \n",
       "9779           0.0                    0.0         0.0              0.0   \n",
       "\n",
       "      c_following_avg  c_star_avg  c_repos_avg  c_commit_active  \\\n",
       "0                 8.6        78.6         32.0            709.2   \n",
       "1                 0.0         0.0          0.0              0.0   \n",
       "2                 0.0         0.0          0.0              0.0   \n",
       "3                 0.4         8.4          9.6            418.2   \n",
       "4               215.0       980.0         61.0             59.0   \n",
       "...               ...         ...          ...              ...   \n",
       "9775              0.0         0.0          0.0              0.0   \n",
       "9776              0.0         0.0          0.0              0.0   \n",
       "9777              0.0         0.0          0.0              0.0   \n",
       "9778              0.0         0.0          0.0              0.0   \n",
       "9779              0.0         0.0          0.0              0.0   \n",
       "\n",
       "      o_type_Organization  o_type_User  \n",
       "0                       1            0  \n",
       "1                       0            1  \n",
       "2                       0            1  \n",
       "3                       1            0  \n",
       "4                       0            1  \n",
       "...                   ...          ...  \n",
       "9775                    0            1  \n",
       "9776                    0            1  \n",
       "9777                    0            1  \n",
       "9778                    0            1  \n",
       "9779                    0            1  \n",
       "\n",
       "[9780 rows x 29 columns]"
      ]
     },
     "execution_count": 15,
     "metadata": {},
     "output_type": "execute_result"
    }
   ],
   "source": [
    "X=new_data.iloc[:,1:]\n",
    "X"
   ]
  },
  {
   "cell_type": "code",
   "execution_count": null,
   "id": "d990de5f",
   "metadata": {},
   "outputs": [],
   "source": []
  },
  {
   "cell_type": "markdown",
   "id": "2ed92778",
   "metadata": {},
   "source": [
    "## train / test 분리 및 오버샘플링"
   ]
  },
  {
   "cell_type": "code",
   "execution_count": 16,
   "id": "c4511951",
   "metadata": {},
   "outputs": [],
   "source": [
    "from sklearn.model_selection import train_test_split\n",
    "X_train, X_test, y_train, y_test = train_test_split(X, y,  test_size=0.2,random_state=10)"
   ]
  },
  {
   "cell_type": "code",
   "execution_count": 17,
   "id": "e99bda14",
   "metadata": {},
   "outputs": [
    {
     "data": {
      "text/html": [
       "<div>\n",
       "<style scoped>\n",
       "    .dataframe tbody tr th:only-of-type {\n",
       "        vertical-align: middle;\n",
       "    }\n",
       "\n",
       "    .dataframe tbody tr th {\n",
       "        vertical-align: top;\n",
       "    }\n",
       "\n",
       "    .dataframe thead th {\n",
       "        text-align: right;\n",
       "    }\n",
       "</style>\n",
       "<table border=\"1\" class=\"dataframe\">\n",
       "  <thead>\n",
       "    <tr style=\"text-align: right;\">\n",
       "      <th></th>\n",
       "      <th>r_forks</th>\n",
       "      <th>r_watch</th>\n",
       "      <th>r_open_issues</th>\n",
       "      <th>r_total_issue</th>\n",
       "      <th>r_tag_num</th>\n",
       "      <th>r_pr_open</th>\n",
       "      <th>r_pr_total</th>\n",
       "      <th>r_num_language</th>\n",
       "      <th>r_readme_trend</th>\n",
       "      <th>r_description_trend</th>\n",
       "      <th>...</th>\n",
       "      <th>c_commit_avg</th>\n",
       "      <th>c_descriptionsize_avg</th>\n",
       "      <th>c_gits_avg</th>\n",
       "      <th>c_followers_avg</th>\n",
       "      <th>c_following_avg</th>\n",
       "      <th>c_star_avg</th>\n",
       "      <th>c_repos_avg</th>\n",
       "      <th>c_commit_active</th>\n",
       "      <th>o_type_Organization</th>\n",
       "      <th>o_type_User</th>\n",
       "    </tr>\n",
       "  </thead>\n",
       "  <tbody>\n",
       "    <tr>\n",
       "      <th>4461</th>\n",
       "      <td>0</td>\n",
       "      <td>1</td>\n",
       "      <td>0</td>\n",
       "      <td>0</td>\n",
       "      <td>0</td>\n",
       "      <td>0.0</td>\n",
       "      <td>0</td>\n",
       "      <td>1</td>\n",
       "      <td>1</td>\n",
       "      <td>1</td>\n",
       "      <td>...</td>\n",
       "      <td>0.0</td>\n",
       "      <td>0.0</td>\n",
       "      <td>0.0</td>\n",
       "      <td>0.0</td>\n",
       "      <td>0.0</td>\n",
       "      <td>0.0</td>\n",
       "      <td>0.0</td>\n",
       "      <td>0.0</td>\n",
       "      <td>0</td>\n",
       "      <td>1</td>\n",
       "    </tr>\n",
       "    <tr>\n",
       "      <th>4979</th>\n",
       "      <td>0</td>\n",
       "      <td>0</td>\n",
       "      <td>1</td>\n",
       "      <td>1</td>\n",
       "      <td>0</td>\n",
       "      <td>0.0</td>\n",
       "      <td>0</td>\n",
       "      <td>2</td>\n",
       "      <td>23</td>\n",
       "      <td>3</td>\n",
       "      <td>...</td>\n",
       "      <td>0.0</td>\n",
       "      <td>0.0</td>\n",
       "      <td>0.0</td>\n",
       "      <td>0.0</td>\n",
       "      <td>0.0</td>\n",
       "      <td>0.0</td>\n",
       "      <td>0.0</td>\n",
       "      <td>0.0</td>\n",
       "      <td>0</td>\n",
       "      <td>1</td>\n",
       "    </tr>\n",
       "    <tr>\n",
       "      <th>3143</th>\n",
       "      <td>0</td>\n",
       "      <td>1</td>\n",
       "      <td>0</td>\n",
       "      <td>0</td>\n",
       "      <td>0</td>\n",
       "      <td>0.0</td>\n",
       "      <td>0</td>\n",
       "      <td>1</td>\n",
       "      <td>14</td>\n",
       "      <td>0</td>\n",
       "      <td>...</td>\n",
       "      <td>0.0</td>\n",
       "      <td>0.0</td>\n",
       "      <td>0.0</td>\n",
       "      <td>0.0</td>\n",
       "      <td>0.0</td>\n",
       "      <td>0.0</td>\n",
       "      <td>0.0</td>\n",
       "      <td>0.0</td>\n",
       "      <td>0</td>\n",
       "      <td>1</td>\n",
       "    </tr>\n",
       "    <tr>\n",
       "      <th>2125</th>\n",
       "      <td>0</td>\n",
       "      <td>3</td>\n",
       "      <td>1</td>\n",
       "      <td>1</td>\n",
       "      <td>0</td>\n",
       "      <td>1.0</td>\n",
       "      <td>2</td>\n",
       "      <td>1</td>\n",
       "      <td>2</td>\n",
       "      <td>2</td>\n",
       "      <td>...</td>\n",
       "      <td>31.0</td>\n",
       "      <td>41.0</td>\n",
       "      <td>0.0</td>\n",
       "      <td>5.0</td>\n",
       "      <td>5.0</td>\n",
       "      <td>12.0</td>\n",
       "      <td>8.0</td>\n",
       "      <td>69.0</td>\n",
       "      <td>1</td>\n",
       "      <td>0</td>\n",
       "    </tr>\n",
       "    <tr>\n",
       "      <th>368</th>\n",
       "      <td>0</td>\n",
       "      <td>1</td>\n",
       "      <td>0</td>\n",
       "      <td>0</td>\n",
       "      <td>0</td>\n",
       "      <td>0.0</td>\n",
       "      <td>0</td>\n",
       "      <td>1</td>\n",
       "      <td>0</td>\n",
       "      <td>0</td>\n",
       "      <td>...</td>\n",
       "      <td>0.0</td>\n",
       "      <td>0.0</td>\n",
       "      <td>0.0</td>\n",
       "      <td>0.0</td>\n",
       "      <td>0.0</td>\n",
       "      <td>0.0</td>\n",
       "      <td>0.0</td>\n",
       "      <td>0.0</td>\n",
       "      <td>0</td>\n",
       "      <td>1</td>\n",
       "    </tr>\n",
       "    <tr>\n",
       "      <th>...</th>\n",
       "      <td>...</td>\n",
       "      <td>...</td>\n",
       "      <td>...</td>\n",
       "      <td>...</td>\n",
       "      <td>...</td>\n",
       "      <td>...</td>\n",
       "      <td>...</td>\n",
       "      <td>...</td>\n",
       "      <td>...</td>\n",
       "      <td>...</td>\n",
       "      <td>...</td>\n",
       "      <td>...</td>\n",
       "      <td>...</td>\n",
       "      <td>...</td>\n",
       "      <td>...</td>\n",
       "      <td>...</td>\n",
       "      <td>...</td>\n",
       "      <td>...</td>\n",
       "      <td>...</td>\n",
       "      <td>...</td>\n",
       "      <td>...</td>\n",
       "    </tr>\n",
       "    <tr>\n",
       "      <th>4862</th>\n",
       "      <td>1</td>\n",
       "      <td>1</td>\n",
       "      <td>0</td>\n",
       "      <td>0</td>\n",
       "      <td>0</td>\n",
       "      <td>0.0</td>\n",
       "      <td>0</td>\n",
       "      <td>2</td>\n",
       "      <td>3</td>\n",
       "      <td>1</td>\n",
       "      <td>...</td>\n",
       "      <td>0.0</td>\n",
       "      <td>0.0</td>\n",
       "      <td>0.0</td>\n",
       "      <td>0.0</td>\n",
       "      <td>0.0</td>\n",
       "      <td>0.0</td>\n",
       "      <td>0.0</td>\n",
       "      <td>0.0</td>\n",
       "      <td>0</td>\n",
       "      <td>1</td>\n",
       "    </tr>\n",
       "    <tr>\n",
       "      <th>2165</th>\n",
       "      <td>0</td>\n",
       "      <td>1</td>\n",
       "      <td>0</td>\n",
       "      <td>0</td>\n",
       "      <td>0</td>\n",
       "      <td>0.0</td>\n",
       "      <td>0</td>\n",
       "      <td>1</td>\n",
       "      <td>0</td>\n",
       "      <td>0</td>\n",
       "      <td>...</td>\n",
       "      <td>0.0</td>\n",
       "      <td>0.0</td>\n",
       "      <td>0.0</td>\n",
       "      <td>0.0</td>\n",
       "      <td>0.0</td>\n",
       "      <td>0.0</td>\n",
       "      <td>0.0</td>\n",
       "      <td>0.0</td>\n",
       "      <td>0</td>\n",
       "      <td>1</td>\n",
       "    </tr>\n",
       "    <tr>\n",
       "      <th>5042</th>\n",
       "      <td>18</td>\n",
       "      <td>12</td>\n",
       "      <td>1</td>\n",
       "      <td>7</td>\n",
       "      <td>0</td>\n",
       "      <td>0.0</td>\n",
       "      <td>0</td>\n",
       "      <td>2</td>\n",
       "      <td>53</td>\n",
       "      <td>2</td>\n",
       "      <td>...</td>\n",
       "      <td>0.0</td>\n",
       "      <td>0.0</td>\n",
       "      <td>0.0</td>\n",
       "      <td>0.0</td>\n",
       "      <td>0.0</td>\n",
       "      <td>0.0</td>\n",
       "      <td>0.0</td>\n",
       "      <td>0.0</td>\n",
       "      <td>0</td>\n",
       "      <td>1</td>\n",
       "    </tr>\n",
       "    <tr>\n",
       "      <th>4749</th>\n",
       "      <td>0</td>\n",
       "      <td>1</td>\n",
       "      <td>0</td>\n",
       "      <td>0</td>\n",
       "      <td>0</td>\n",
       "      <td>0.0</td>\n",
       "      <td>0</td>\n",
       "      <td>1</td>\n",
       "      <td>7</td>\n",
       "      <td>2</td>\n",
       "      <td>...</td>\n",
       "      <td>0.0</td>\n",
       "      <td>0.0</td>\n",
       "      <td>0.0</td>\n",
       "      <td>0.0</td>\n",
       "      <td>0.0</td>\n",
       "      <td>0.0</td>\n",
       "      <td>0.0</td>\n",
       "      <td>0.0</td>\n",
       "      <td>0</td>\n",
       "      <td>1</td>\n",
       "    </tr>\n",
       "    <tr>\n",
       "      <th>9499</th>\n",
       "      <td>0</td>\n",
       "      <td>1</td>\n",
       "      <td>0</td>\n",
       "      <td>0</td>\n",
       "      <td>0</td>\n",
       "      <td>0.0</td>\n",
       "      <td>0</td>\n",
       "      <td>0</td>\n",
       "      <td>0</td>\n",
       "      <td>0</td>\n",
       "      <td>...</td>\n",
       "      <td>0.0</td>\n",
       "      <td>0.0</td>\n",
       "      <td>0.0</td>\n",
       "      <td>0.0</td>\n",
       "      <td>0.0</td>\n",
       "      <td>0.0</td>\n",
       "      <td>0.0</td>\n",
       "      <td>0.0</td>\n",
       "      <td>0</td>\n",
       "      <td>1</td>\n",
       "    </tr>\n",
       "  </tbody>\n",
       "</table>\n",
       "<p>1956 rows × 29 columns</p>\n",
       "</div>"
      ],
      "text/plain": [
       "      r_forks  r_watch  r_open_issues  r_total_issue  r_tag_num  r_pr_open  \\\n",
       "4461        0        1              0              0          0        0.0   \n",
       "4979        0        0              1              1          0        0.0   \n",
       "3143        0        1              0              0          0        0.0   \n",
       "2125        0        3              1              1          0        1.0   \n",
       "368         0        1              0              0          0        0.0   \n",
       "...       ...      ...            ...            ...        ...        ...   \n",
       "4862        1        1              0              0          0        0.0   \n",
       "2165        0        1              0              0          0        0.0   \n",
       "5042       18       12              1              7          0        0.0   \n",
       "4749        0        1              0              0          0        0.0   \n",
       "9499        0        1              0              0          0        0.0   \n",
       "\n",
       "      r_pr_total  r_num_language  r_readme_trend  r_description_trend  ...  \\\n",
       "4461           0               1               1                    1  ...   \n",
       "4979           0               2              23                    3  ...   \n",
       "3143           0               1              14                    0  ...   \n",
       "2125           2               1               2                    2  ...   \n",
       "368            0               1               0                    0  ...   \n",
       "...          ...             ...             ...                  ...  ...   \n",
       "4862           0               2               3                    1  ...   \n",
       "2165           0               1               0                    0  ...   \n",
       "5042           0               2              53                    2  ...   \n",
       "4749           0               1               7                    2  ...   \n",
       "9499           0               0               0                    0  ...   \n",
       "\n",
       "      c_commit_avg  c_descriptionsize_avg  c_gits_avg  c_followers_avg  \\\n",
       "4461           0.0                    0.0         0.0              0.0   \n",
       "4979           0.0                    0.0         0.0              0.0   \n",
       "3143           0.0                    0.0         0.0              0.0   \n",
       "2125          31.0                   41.0         0.0              5.0   \n",
       "368            0.0                    0.0         0.0              0.0   \n",
       "...            ...                    ...         ...              ...   \n",
       "4862           0.0                    0.0         0.0              0.0   \n",
       "2165           0.0                    0.0         0.0              0.0   \n",
       "5042           0.0                    0.0         0.0              0.0   \n",
       "4749           0.0                    0.0         0.0              0.0   \n",
       "9499           0.0                    0.0         0.0              0.0   \n",
       "\n",
       "      c_following_avg  c_star_avg  c_repos_avg  c_commit_active  \\\n",
       "4461              0.0         0.0          0.0              0.0   \n",
       "4979              0.0         0.0          0.0              0.0   \n",
       "3143              0.0         0.0          0.0              0.0   \n",
       "2125              5.0        12.0          8.0             69.0   \n",
       "368               0.0         0.0          0.0              0.0   \n",
       "...               ...         ...          ...              ...   \n",
       "4862              0.0         0.0          0.0              0.0   \n",
       "2165              0.0         0.0          0.0              0.0   \n",
       "5042              0.0         0.0          0.0              0.0   \n",
       "4749              0.0         0.0          0.0              0.0   \n",
       "9499              0.0         0.0          0.0              0.0   \n",
       "\n",
       "      o_type_Organization  o_type_User  \n",
       "4461                    0            1  \n",
       "4979                    0            1  \n",
       "3143                    0            1  \n",
       "2125                    1            0  \n",
       "368                     0            1  \n",
       "...                   ...          ...  \n",
       "4862                    0            1  \n",
       "2165                    0            1  \n",
       "5042                    0            1  \n",
       "4749                    0            1  \n",
       "9499                    0            1  \n",
       "\n",
       "[1956 rows x 29 columns]"
      ]
     },
     "execution_count": 17,
     "metadata": {},
     "output_type": "execute_result"
    }
   ],
   "source": [
    "X_test"
   ]
  },
  {
   "cell_type": "code",
   "execution_count": 18,
   "id": "b98fb3e1",
   "metadata": {},
   "outputs": [
    {
     "data": {
      "text/plain": [
       "41"
      ]
     },
     "execution_count": 18,
     "metadata": {},
     "output_type": "execute_result"
    }
   ],
   "source": [
    "y_test['y_stars10'].tolist().count(1)"
   ]
  },
  {
   "cell_type": "code",
   "execution_count": 19,
   "id": "faab06b0",
   "metadata": {},
   "outputs": [
    {
     "data": {
      "text/plain": [
       "1915"
      ]
     },
     "execution_count": 19,
     "metadata": {},
     "output_type": "execute_result"
    }
   ],
   "source": [
    "y_test['y_stars10'].tolist().count(0)"
   ]
  },
  {
   "cell_type": "code",
   "execution_count": 20,
   "id": "b6ac5362",
   "metadata": {},
   "outputs": [],
   "source": [
    "from imblearn.over_sampling import SMOTE\n",
    "smote = SMOTE(random_state=42)\n",
    "X_train_over, y_train_over = smote.fit_resample(X_train, y_train)"
   ]
  },
  {
   "cell_type": "markdown",
   "id": "b45f1c2e",
   "metadata": {},
   "source": [
    "## Logistic Regression"
   ]
  },
  {
   "cell_type": "code",
   "execution_count": 21,
   "id": "a6ae8533",
   "metadata": {},
   "outputs": [],
   "source": [
    "from sklearn.linear_model import LogisticRegression\n"
   ]
  },
  {
   "cell_type": "code",
   "execution_count": 22,
   "id": "86648b5e",
   "metadata": {},
   "outputs": [],
   "source": [
    "from sklearn.preprocessing import StandardScaler\n",
    "scaler = StandardScaler()\n",
    "X_train_over = scaler.fit_transform(X_train_over)\n",
    "X_test = scaler.transform(X_test)"
   ]
  },
  {
   "cell_type": "code",
   "execution_count": 23,
   "id": "ca3079f4",
   "metadata": {},
   "outputs": [
    {
     "name": "stderr",
     "output_type": "stream",
     "text": [
      "C:\\Users\\BM\\anaconda3\\lib\\site-packages\\sklearn\\linear_model\\_logistic.py:765: ConvergenceWarning: lbfgs failed to converge (status=1):\n",
      "STOP: TOTAL NO. of ITERATIONS REACHED LIMIT.\n",
      "\n",
      "Increase the number of iterations (max_iter) or scale the data as shown in:\n",
      "    https://scikit-learn.org/stable/modules/preprocessing.html\n",
      "Please also refer to the documentation for alternative solver options:\n",
      "    https://scikit-learn.org/stable/modules/linear_model.html#logistic-regression\n",
      "  extra_warning_msg=_LOGISTIC_SOLVER_CONVERGENCE_MSG)\n"
     ]
    },
    {
     "data": {
      "text/plain": [
       "LogisticRegression(C=6.0009999999999994)"
      ]
     },
     "execution_count": 23,
     "metadata": {},
     "output_type": "execute_result"
    }
   ],
   "source": [
    "from sklearn.linear_model import LogisticRegression\n",
    "lr = LogisticRegression(C=6.0009999999999994)\n",
    "lr.fit(X_train_over, y_train_over.values.ravel())"
   ]
  },
  {
   "cell_type": "code",
   "execution_count": 24,
   "id": "08372839",
   "metadata": {},
   "outputs": [],
   "source": [
    "lr_predicted = lr.predict(X_test)"
   ]
  },
  {
   "cell_type": "code",
   "execution_count": 25,
   "id": "e36e216e",
   "metadata": {},
   "outputs": [],
   "source": [
    "fpr, tpr, thresholds = roc_curve(y_test, lr_predicted)"
   ]
  },
  {
   "cell_type": "code",
   "execution_count": 26,
   "id": "170cc357",
   "metadata": {},
   "outputs": [],
   "source": [
    "from sklearn.metrics import confusion_matrix, plot_confusion_matrix"
   ]
  },
  {
   "cell_type": "code",
   "execution_count": 27,
   "id": "81c59a0c",
   "metadata": {},
   "outputs": [],
   "source": [
    "cm = pd.DataFrame(confusion_matrix(y_test, lr_predicted))"
   ]
  },
  {
   "cell_type": "code",
   "execution_count": 28,
   "id": "3be58bdf",
   "metadata": {},
   "outputs": [
    {
     "data": {
      "text/plain": [
       "<sklearn.metrics._plot.confusion_matrix.ConfusionMatrixDisplay at 0x15bbe2486c8>"
      ]
     },
     "execution_count": 28,
     "metadata": {},
     "output_type": "execute_result"
    },
    {
     "data": {
      "image/png": "[encoded data removed]",
      "text/plain": [
       "<Figure size 432x288 with 2 Axes>"
      ]
     },
     "metadata": {
      "needs_background": "light"
     },
     "output_type": "display_data"
    }
   ],
   "source": [
    "from sklearn.metrics import confusion_matrix\n",
    "import matplotlib.pyplot as plt\n",
    "import seaborn as sns\n",
    "plot_confusion_matrix(lr,X_test,y_test , cmap=plt.cm.Blues)\n"
   ]
  },
  {
   "cell_type": "code",
   "execution_count": 29,
   "id": "6aeb6c6b",
   "metadata": {},
   "outputs": [
    {
     "name": "stdout",
     "output_type": "stream",
     "text": [
      "accuracy_score :  0.9902862985685071\n",
      "precision :  0.6964285714285714\n",
      "recall :  0.9512195121951219\n",
      "f1 :  0.8041237113402062\n",
      "auc :  0.9711711137999108\n"
     ]
    }
   ],
   "source": [
    "print('accuracy_score : ', metrics.accuracy_score(y_test,lr_predicted))\n",
    "print('precision : ', metrics.precision_score(y_test,lr_predicted))\n",
    "print('recall : ', metrics.recall_score(y_test,lr_predicted))\n",
    "print('f1 : ', metrics.f1_score(y_test,lr_predicted))\n",
    "print('auc : ',auc(fpr,tpr))\n"
   ]
  },
  {
   "cell_type": "code",
   "execution_count": 30,
   "id": "35979682",
   "metadata": {},
   "outputs": [],
   "source": [
    "# auc(metrics.precision_score(y_test,lr_predicted),metrics.recall_score(y_test,lr_predicted))"
   ]
  },
  {
   "cell_type": "code",
   "execution_count": 31,
   "id": "32bcd829",
   "metadata": {},
   "outputs": [
    {
     "name": "stdout",
     "output_type": "stream",
     "text": [
      "roc auc value 0.9711711137999108\n"
     ]
    }
   ],
   "source": [
    "from sklearn.metrics import roc_auc_score\n",
    "print('roc auc value {}'.format(roc_auc_score(y_test,lr_predicted)))"
   ]
  },
  {
   "cell_type": "code",
   "execution_count": 32,
   "id": "53ff823a",
   "metadata": {},
   "outputs": [
    {
     "data": {
      "text/plain": [
       "array([[1898,   17],\n",
       "       [   2,   39]], dtype=int64)"
      ]
     },
     "execution_count": 32,
     "metadata": {},
     "output_type": "execute_result"
    }
   ],
   "source": [
    "confusion_matrix(y_test,lr_predicted)"
   ]
  },
  {
   "cell_type": "markdown",
   "id": "e1b738f1",
   "metadata": {},
   "source": [
    "## RF"
   ]
  },
  {
   "cell_type": "code",
   "execution_count": 33,
   "id": "470a022f",
   "metadata": {},
   "outputs": [],
   "source": [
    "# X_train, X_test, y_train, y_test = train_test_split(X, y)"
   ]
  },
  {
   "cell_type": "code",
   "execution_count": 34,
   "id": "b057f20f",
   "metadata": {},
   "outputs": [
    {
     "name": "stderr",
     "output_type": "stream",
     "text": [
      "C:\\Users\\BM\\anaconda3\\lib\\site-packages\\ipykernel_launcher.py:5: DataConversionWarning: A column-vector y was passed when a 1d array was expected. Please change the shape of y to (n_samples,), for example using ravel().\n",
      "  \"\"\"\n"
     ]
    },
    {
     "data": {
      "text/plain": [
       "RandomForestClassifier(max_depth=16, min_samples_leaf=4, min_samples_split=4,\n",
       "                       n_estimators=500, n_jobs=-1, random_state=0)"
      ]
     },
     "execution_count": 34,
     "metadata": {},
     "output_type": "execute_result"
    }
   ],
   "source": [
    "from sklearn.ensemble import RandomForestClassifier\n",
    "\n",
    "rf = RandomForestClassifier(max_depth=16, min_samples_leaf=4, min_samples_split=4,\n",
    "                       n_jobs=-1, random_state=0, n_estimators=500)\n",
    "rf.fit(X_train_over, y_train_over)"
   ]
  },
  {
   "cell_type": "code",
   "execution_count": 35,
   "id": "6b29f2a0",
   "metadata": {},
   "outputs": [],
   "source": [
    "from sklearn.metrics import accuracy_score\n",
    "\n",
    "rf_predicted = rf.predict(X_test)\n",
    "accuracy = accuracy_score(y_test, rf_predicted)"
   ]
  },
  {
   "cell_type": "code",
   "execution_count": 36,
   "id": "ccbdedf8",
   "metadata": {},
   "outputs": [
    {
     "data": {
      "text/plain": [
       "<sklearn.metrics._plot.confusion_matrix.ConfusionMatrixDisplay at 0x15bbe5ce248>"
      ]
     },
     "execution_count": 36,
     "metadata": {},
     "output_type": "execute_result"
    },
    {
     "data": {
      "image/png": "[encoded data removed]",
      "text/plain": [
       "<Figure size 432x288 with 2 Axes>"
      ]
     },
     "metadata": {
      "needs_background": "light"
     },
     "output_type": "display_data"
    }
   ],
   "source": [
    "plot_confusion_matrix(rf,X_test,y_test , cmap=plt.cm.Blues)"
   ]
  },
  {
   "cell_type": "code",
   "execution_count": 37,
   "id": "dc8acb67",
   "metadata": {},
   "outputs": [
    {
     "name": "stdout",
     "output_type": "stream",
     "text": [
      "accuracy_score :  0.9923312883435583\n",
      "precision :  0.75\n",
      "recall :  0.9512195121951219\n",
      "f1 :  0.8387096774193549\n"
     ]
    }
   ],
   "source": [
    "print('accuracy_score : ', metrics.accuracy_score(y_test,rf_predicted))\n",
    "print('precision : ', metrics.precision_score(y_test,rf_predicted))\n",
    "print('recall : ', metrics.recall_score(y_test,rf_predicted))\n",
    "print('f1 : ', metrics.f1_score(y_test,rf_predicted))"
   ]
  },
  {
   "cell_type": "code",
   "execution_count": 38,
   "id": "8ef2a131",
   "metadata": {},
   "outputs": [
    {
     "name": "stdout",
     "output_type": "stream",
     "text": [
      "roc auc value 0.9722155002228874\n"
     ]
    }
   ],
   "source": [
    "print('roc auc value {}'.format(roc_auc_score(y_test,rf_predicted)))"
   ]
  },
  {
   "cell_type": "markdown",
   "id": "421fc224",
   "metadata": {},
   "source": [
    "## DT"
   ]
  },
  {
   "cell_type": "code",
   "execution_count": 39,
   "id": "207d3deb",
   "metadata": {},
   "outputs": [
    {
     "data": {
      "text/plain": [
       "DecisionTreeClassifier(criterion='entropy', max_depth=20, min_samples_leaf=2,\n",
       "                       min_samples_split=8)"
      ]
     },
     "execution_count": 39,
     "metadata": {},
     "output_type": "execute_result"
    }
   ],
   "source": [
    "from sklearn.tree import DecisionTreeClassifier\n",
    "dt = DecisionTreeClassifier(criterion='entropy', max_depth=20, min_samples_leaf=2,\n",
    "                       min_samples_split=8)\n",
    "dt.fit(X_train_over, y_train_over)"
   ]
  },
  {
   "cell_type": "code",
   "execution_count": 40,
   "id": "f760d56d",
   "metadata": {},
   "outputs": [],
   "source": [
    "dt_predicted = dt.predict(X_test)"
   ]
  },
  {
   "cell_type": "code",
   "execution_count": 41,
   "id": "4ff9b65d",
   "metadata": {},
   "outputs": [],
   "source": [
    "# fpr, tpr, thresholds = roc_curve(y, dt.decision_function(X))"
   ]
  },
  {
   "cell_type": "code",
   "execution_count": 42,
   "id": "43b199dc",
   "metadata": {},
   "outputs": [
    {
     "name": "stdout",
     "output_type": "stream",
     "text": [
      "accuracy_score :  0.9918200408997955\n",
      "precision :  0.7906976744186046\n",
      "recall :  0.8292682926829268\n",
      "f1 :  0.8095238095238095\n"
     ]
    }
   ],
   "source": [
    "print('accuracy_score : ', metrics.accuracy_score(y_test,dt_predicted))\n",
    "print('precision : ', metrics.precision_score(y_test,dt_predicted))\n",
    "print('recall : ', metrics.recall_score(y_test,dt_predicted))\n",
    "print('f1 : ', metrics.f1_score(y_test,dt_predicted))"
   ]
  },
  {
   "cell_type": "code",
   "execution_count": 43,
   "id": "ad8b83e3",
   "metadata": {},
   "outputs": [
    {
     "data": {
      "text/plain": [
       "<sklearn.metrics._plot.confusion_matrix.ConfusionMatrixDisplay at 0x15bbe6bdd88>"
      ]
     },
     "execution_count": 43,
     "metadata": {},
     "output_type": "execute_result"
    },
    {
     "data": {
      "image/png": "[encoded data removed]",
      "text/plain": [
       "<Figure size 432x288 with 2 Axes>"
      ]
     },
     "metadata": {
      "needs_background": "light"
     },
     "output_type": "display_data"
    }
   ],
   "source": [
    "plot_confusion_matrix(dt,X_test,y_test , cmap=plt.cm.Blues)"
   ]
  },
  {
   "cell_type": "code",
   "execution_count": 44,
   "id": "bef09f60",
   "metadata": {
    "scrolled": true
   },
   "outputs": [
    {
     "name": "stdout",
     "output_type": "stream",
     "text": [
      "roc auc value 0.9122842768897662\n"
     ]
    }
   ],
   "source": [
    "print('roc auc value {}'.format(roc_auc_score(y_test,dt_predicted)))"
   ]
  },
  {
   "cell_type": "markdown",
   "id": "9378fae2",
   "metadata": {},
   "source": [
    "## LightGBM"
   ]
  },
  {
   "cell_type": "code",
   "execution_count": 45,
   "id": "6603198a",
   "metadata": {},
   "outputs": [],
   "source": [
    "# !pip install lightgbm"
   ]
  },
  {
   "cell_type": "code",
   "execution_count": 46,
   "id": "50044163",
   "metadata": {},
   "outputs": [
    {
     "name": "stderr",
     "output_type": "stream",
     "text": [
      "C:\\Users\\BM\\anaconda3\\lib\\site-packages\\sklearn\\utils\\validation.py:63: DataConversionWarning: A column-vector y was passed when a 1d array was expected. Please change the shape of y to (n_samples, ), for example using ravel().\n",
      "  return f(*args, **kwargs)\n"
     ]
    },
    {
     "data": {
      "text/plain": [
       "LGBMClassifier(max_depth=15, min_child_samples=60, n_estimators=701,\n",
       "               subsample=0.8)"
      ]
     },
     "execution_count": 46,
     "metadata": {},
     "output_type": "execute_result"
    }
   ],
   "source": [
    "from lightgbm import LGBMClassifier\n",
    "lgbm=LGBMClassifier(max_depth=15, min_child_samples=60, n_estimators=701,subsample=0.8)\n",
    "lgbm.fit(X_train_over,y_train_over)"
   ]
  },
  {
   "cell_type": "code",
   "execution_count": 47,
   "id": "fb844752",
   "metadata": {},
   "outputs": [],
   "source": [
    "lgbm_predicted=lgbm.predict(X_test)"
   ]
  },
  {
   "cell_type": "code",
   "execution_count": 48,
   "id": "0ca1067b",
   "metadata": {},
   "outputs": [
    {
     "name": "stdout",
     "output_type": "stream",
     "text": [
      "accuracy_score :  0.9948875255623721\n",
      "precision :  0.8604651162790697\n",
      "recall :  0.9024390243902439\n",
      "f1 :  0.8809523809523809\n"
     ]
    }
   ],
   "source": [
    "print('accuracy_score : ', metrics.accuracy_score(y_test,lgbm_predicted))\n",
    "print('precision : ', metrics.precision_score(y_test,lgbm_predicted))\n",
    "print('recall : ', metrics.recall_score(y_test,lgbm_predicted))\n",
    "print('f1 : ', metrics.f1_score(y_test,lgbm_predicted))"
   ]
  },
  {
   "cell_type": "code",
   "execution_count": 49,
   "id": "7989f023",
   "metadata": {},
   "outputs": [
    {
     "data": {
      "text/plain": [
       "<sklearn.metrics._plot.confusion_matrix.ConfusionMatrixDisplay at 0x15bc0abaf08>"
      ]
     },
     "execution_count": 49,
     "metadata": {},
     "output_type": "execute_result"
    },
    {
     "data": {
      "image/png": "[encoded data removed]",
      "text/plain": [
       "<Figure size 432x288 with 2 Axes>"
      ]
     },
     "metadata": {
      "needs_background": "light"
     },
     "output_type": "display_data"
    }
   ],
   "source": [
    "plot_confusion_matrix(lgbm,X_test,y_test , cmap=plt.cm.Blues)"
   ]
  },
  {
   "cell_type": "code",
   "execution_count": 50,
   "id": "ab66e9a1",
   "metadata": {},
   "outputs": [
    {
     "name": "stdout",
     "output_type": "stream",
     "text": [
      "roc auc value 0.9496529325606572\n"
     ]
    }
   ],
   "source": [
    "print('roc auc value {}'.format(roc_auc_score(y_test,lgbm_predicted)))"
   ]
  },
  {
   "cell_type": "markdown",
   "id": "9e490f7a",
   "metadata": {},
   "source": [
    "## XGBoost"
   ]
  },
  {
   "cell_type": "code",
   "execution_count": 51,
   "id": "5d0c5e70",
   "metadata": {},
   "outputs": [],
   "source": [
    "# !pip install xgboost"
   ]
  },
  {
   "cell_type": "code",
   "execution_count": 52,
   "id": "e8a3a488",
   "metadata": {},
   "outputs": [],
   "source": [
    "import xgboost as xgb\n",
    "xgb=xgb.XGBClassifier(base_score=0.5, booster='gbtree', colsample_bylevel=1,\n",
    "              colsample_bynode=1, colsample_bytree=1, eval_metric='logloss',\n",
    "              gamma=0.5, gpu_id=-1, importance_type='gain',\n",
    "              interaction_constraints='', learning_rate=0.3, max_delta_step=0,\n",
    "              max_depth=8, min_child_weight=1, \n",
    "              monotone_constraints='()', n_estimators=100, n_jobs=8,\n",
    "              num_parallel_tree=1, random_state=99, reg_alpha=0, reg_lambda=1,\n",
    "              scale_pos_weight=1, subsample=1, tree_method='exact',\n",
    "              validate_parameters=1, verbosity=None)"
   ]
  },
  {
   "cell_type": "code",
   "execution_count": 53,
   "id": "1158be9c",
   "metadata": {},
   "outputs": [
    {
     "name": "stderr",
     "output_type": "stream",
     "text": [
      "C:\\Users\\BM\\anaconda3\\lib\\site-packages\\xgboost\\sklearn.py:1146: UserWarning: The use of label encoder in XGBClassifier is deprecated and will be removed in a future release. To remove this warning, do the following: 1) Pass option use_label_encoder=False when constructing XGBClassifier object; and 2) Encode your labels (y) as integers starting with 0, i.e. 0, 1, 2, ..., [num_class - 1].\n",
      "  warnings.warn(label_encoder_deprecation_msg, UserWarning)\n",
      "C:\\Users\\BM\\anaconda3\\lib\\site-packages\\sklearn\\utils\\validation.py:63: DataConversionWarning: A column-vector y was passed when a 1d array was expected. Please change the shape of y to (n_samples, ), for example using ravel().\n",
      "  return f(*args, **kwargs)\n"
     ]
    },
    {
     "data": {
      "text/plain": [
       "XGBClassifier(base_score=0.5, booster='gbtree', colsample_bylevel=1,\n",
       "              colsample_bynode=1, colsample_bytree=1, eval_metric='logloss',\n",
       "              gamma=0.5, gpu_id=-1, importance_type='gain',\n",
       "              interaction_constraints='', learning_rate=0.3, max_delta_step=0,\n",
       "              max_depth=8, min_child_weight=1, missing=nan,\n",
       "              monotone_constraints='()', n_estimators=100, n_jobs=8,\n",
       "              num_parallel_tree=1, random_state=99, reg_alpha=0, reg_lambda=1,\n",
       "              scale_pos_weight=1, subsample=1, tree_method='exact',\n",
       "              validate_parameters=1, verbosity=None)"
      ]
     },
     "execution_count": 53,
     "metadata": {},
     "output_type": "execute_result"
    }
   ],
   "source": [
    "xgb.fit(X_train_over,y_train_over)"
   ]
  },
  {
   "cell_type": "code",
   "execution_count": 54,
   "id": "f5d07e20",
   "metadata": {},
   "outputs": [],
   "source": [
    "xgb_predicted=xgb.predict(X_test)"
   ]
  },
  {
   "cell_type": "code",
   "execution_count": 55,
   "id": "5e6a1455",
   "metadata": {},
   "outputs": [
    {
     "name": "stdout",
     "output_type": "stream",
     "text": [
      "accuracy_score :  0.9948875255623721\n",
      "precision :  0.8444444444444444\n",
      "recall :  0.926829268292683\n",
      "f1 :  0.8837209302325582\n"
     ]
    }
   ],
   "source": [
    "print('accuracy_score : ', metrics.accuracy_score(y_test,xgb_predicted))\n",
    "print('precision : ', metrics.precision_score(y_test,xgb_predicted))\n",
    "print('recall : ', metrics.recall_score(y_test,xgb_predicted))\n",
    "print('f1 : ', metrics.f1_score(y_test,xgb_predicted))"
   ]
  },
  {
   "cell_type": "code",
   "execution_count": 56,
   "id": "73ea52e6",
   "metadata": {},
   "outputs": [
    {
     "data": {
      "text/plain": [
       "<sklearn.metrics._plot.confusion_matrix.ConfusionMatrixDisplay at 0x15bc0d89388>"
      ]
     },
     "execution_count": 56,
     "metadata": {},
     "output_type": "execute_result"
    },
    {
     "data": {
      "image/png": "[encoded data removed]",
      "text/plain": [
       "<Figure size 432x288 with 2 Axes>"
      ]
     },
     "metadata": {
      "needs_background": "light"
     },
     "output_type": "display_data"
    }
   ],
   "source": [
    "plot_confusion_matrix(xgb,X_test,y_test , cmap=plt.cm.Blues)"
   ]
  },
  {
   "cell_type": "code",
   "execution_count": 57,
   "id": "f6f209a8",
   "metadata": {},
   "outputs": [
    {
     "name": "stdout",
     "output_type": "stream",
     "text": [
      "roc auc value 0.9615869579061326\n"
     ]
    }
   ],
   "source": [
    "print('roc auc value {}'.format(roc_auc_score(y_test,xgb_predicted)))"
   ]
  },
  {
   "cell_type": "markdown",
   "id": "0038accf",
   "metadata": {},
   "source": [
    "## SVM"
   ]
  },
  {
   "cell_type": "code",
   "execution_count": 58,
   "id": "50ee96a0",
   "metadata": {},
   "outputs": [],
   "source": [
    "import sklearn.svm as svm"
   ]
  },
  {
   "cell_type": "code",
   "execution_count": 59,
   "id": "455e67fa",
   "metadata": {},
   "outputs": [],
   "source": [
    "svc=svm.SVC(kernel='linear',C = 10.0, gamma=1.0)"
   ]
  },
  {
   "cell_type": "code",
   "execution_count": 60,
   "id": "0cf7b718",
   "metadata": {},
   "outputs": [
    {
     "name": "stderr",
     "output_type": "stream",
     "text": [
      "C:\\Users\\BM\\anaconda3\\lib\\site-packages\\sklearn\\utils\\validation.py:63: DataConversionWarning: A column-vector y was passed when a 1d array was expected. Please change the shape of y to (n_samples, ), for example using ravel().\n",
      "  return f(*args, **kwargs)\n"
     ]
    },
    {
     "data": {
      "text/plain": [
       "SVC(C=10.0, gamma=1.0, kernel='linear')"
      ]
     },
     "execution_count": 60,
     "metadata": {},
     "output_type": "execute_result"
    }
   ],
   "source": [
    "svc.fit(X_train_over,y_train_over)"
   ]
  },
  {
   "cell_type": "code",
   "execution_count": 61,
   "id": "8e763045",
   "metadata": {},
   "outputs": [],
   "source": [
    "svc_predicted=svc.predict(X_test)"
   ]
  },
  {
   "cell_type": "code",
   "execution_count": 62,
   "id": "aae5c9f1",
   "metadata": {},
   "outputs": [
    {
     "name": "stdout",
     "output_type": "stream",
     "text": [
      "accuracy_score :  0.9892638036809815\n",
      "precision :  0.6785714285714286\n",
      "recall :  0.926829268292683\n",
      "f1 :  0.7835051546391752\n"
     ]
    }
   ],
   "source": [
    "print('accuracy_score : ', metrics.accuracy_score(y_test,svc_predicted))\n",
    "print('precision : ', metrics.precision_score(y_test,svc_predicted))\n",
    "print('recall : ', metrics.recall_score(y_test,svc_predicted))\n",
    "print('f1 : ', metrics.f1_score(y_test,svc_predicted))"
   ]
  },
  {
   "cell_type": "code",
   "execution_count": 63,
   "id": "9267e0aa",
   "metadata": {},
   "outputs": [
    {
     "data": {
      "text/plain": [
       "<sklearn.metrics._plot.confusion_matrix.ConfusionMatrixDisplay at 0x15bc20adfc8>"
      ]
     },
     "execution_count": 63,
     "metadata": {},
     "output_type": "execute_result"
    },
    {
     "data": {
      "image/png": "[encoded data removed]",
      "text/plain": [
       "<Figure size 432x288 with 2 Axes>"
      ]
     },
     "metadata": {
      "needs_background": "light"
     },
     "output_type": "display_data"
    }
   ],
   "source": [
    "plot_confusion_matrix(svc,X_test,y_test , cmap=plt.cm.Blues)"
   ]
  },
  {
   "cell_type": "code",
   "execution_count": 64,
   "id": "f47b8c37",
   "metadata": {},
   "outputs": [
    {
     "name": "stdout",
     "output_type": "stream",
     "text": [
      "roc auc value 0.9587148952429472\n"
     ]
    }
   ],
   "source": [
    "print('roc auc value {}'.format(roc_auc_score(y_test,svc_predicted)))"
   ]
  },
  {
   "cell_type": "markdown",
   "id": "8081b3b9",
   "metadata": {},
   "source": [
    "## GBM"
   ]
  },
  {
   "cell_type": "code",
   "execution_count": 65,
   "id": "88d8e533",
   "metadata": {},
   "outputs": [
    {
     "data": {
      "text/plain": [
       "GradientBoostingClassifier(max_depth=16, max_features=2, min_samples_leaf=4,\n",
       "                           min_samples_split=16, n_estimators=500,\n",
       "                           random_state=42)"
      ]
     },
     "execution_count": 65,
     "metadata": {},
     "output_type": "execute_result"
    }
   ],
   "source": [
    "from sklearn.ensemble import GradientBoostingClassifier\n",
    "\n",
    "gbm=GradientBoostingClassifier(learning_rate=0.1, max_depth=16, max_features=2,\n",
    "                           min_samples_leaf=4, min_samples_split=16,\n",
    "                           n_estimators=500, random_state=42)\n",
    "\n",
    "gbm.fit(X_train_over,y_train_over.values.ravel())"
   ]
  },
  {
   "cell_type": "code",
   "execution_count": 66,
   "id": "b58d612c",
   "metadata": {},
   "outputs": [],
   "source": [
    "gbm_predicted = gbm.predict(X_test)"
   ]
  },
  {
   "cell_type": "code",
   "execution_count": 67,
   "id": "79c2a3ff",
   "metadata": {},
   "outputs": [
    {
     "name": "stdout",
     "output_type": "stream",
     "text": [
      "accuracy_score :  0.9943762781186094\n",
      "precision :  0.8947368421052632\n",
      "recall :  0.8292682926829268\n",
      "f1 :  0.860759493670886\n"
     ]
    }
   ],
   "source": [
    "print('accuracy_score : ', metrics.accuracy_score(y_test,gbm_predicted))\n",
    "print('precision : ', metrics.precision_score(y_test,gbm_predicted))\n",
    "print('recall : ', metrics.recall_score(y_test,gbm_predicted))\n",
    "print('f1 : ', metrics.f1_score(y_test,gbm_predicted))"
   ]
  },
  {
   "cell_type": "code",
   "execution_count": 68,
   "id": "ce4c8a27",
   "metadata": {},
   "outputs": [
    {
     "data": {
      "text/plain": [
       "<sklearn.metrics._plot.confusion_matrix.ConfusionMatrixDisplay at 0x15bc2159b48>"
      ]
     },
     "execution_count": 68,
     "metadata": {},
     "output_type": "execute_result"
    },
    {
     "data": {
      "image/png": "[encoded data removed]",
      "text/plain": [
       "<Figure size 432x288 with 2 Axes>"
      ]
     },
     "metadata": {
      "needs_background": "light"
     },
     "output_type": "display_data"
    }
   ],
   "source": [
    "plot_confusion_matrix(gbm,X_test,y_test , cmap=plt.cm.Blues)"
   ]
  },
  {
   "cell_type": "code",
   "execution_count": 69,
   "id": "ae32eb1a",
   "metadata": {
    "scrolled": true
   },
   "outputs": [
    {
     "name": "stdout",
     "output_type": "stream",
     "text": [
      "roc auc value 0.9135897599184869\n"
     ]
    }
   ],
   "source": [
    "print('roc auc value {}'.format(roc_auc_score(y_test,gbm_predicted)))"
   ]
  },
  {
   "cell_type": "code",
   "execution_count": 70,
   "id": "d339a4df",
   "metadata": {},
   "outputs": [],
   "source": [
    "lr_list=[metrics.accuracy_score(y_test,lr_predicted),metrics.precision_score(y_test,lr_predicted),metrics.recall_score(y_test,lr_predicted),metrics.f1_score(y_test,lr_predicted),roc_auc_score(y_test,lr_predicted)]\n",
    "dt_list=[metrics.accuracy_score(y_test,dt_predicted),metrics.precision_score(y_test,dt_predicted),metrics.recall_score(y_test,dt_predicted),metrics.f1_score(y_test,dt_predicted),roc_auc_score(y_test,dt_predicted)]\n",
    "rf_list=[metrics.accuracy_score(y_test,rf_predicted),metrics.precision_score(y_test,rf_predicted),metrics.recall_score(y_test,rf_predicted),metrics.f1_score(y_test,rf_predicted),roc_auc_score(y_test,rf_predicted)]\n",
    "xgb_list=[metrics.accuracy_score(y_test,xgb_predicted),metrics.precision_score(y_test,xgb_predicted),metrics.recall_score(y_test,xgb_predicted),metrics.f1_score(y_test,xgb_predicted),roc_auc_score(y_test,xgb_predicted)]\n",
    "svc_list=[metrics.accuracy_score(y_test,svc_predicted),metrics.precision_score(y_test,svc_predicted),metrics.recall_score(y_test,svc_predicted),metrics.f1_score(y_test,svc_predicted),roc_auc_score(y_test,svc_predicted)]\n",
    "gbm_list=[metrics.accuracy_score(y_test,gbm_predicted),metrics.precision_score(y_test,gbm_predicted),metrics.recall_score(y_test,gbm_predicted),metrics.f1_score(y_test,gbm_predicted),roc_auc_score(y_test,gbm_predicted)]\n",
    "lgbm_list=[metrics.accuracy_score(y_test,lgbm_predicted),metrics.precision_score(y_test,lgbm_predicted),metrics.recall_score(y_test,lgbm_predicted),metrics.f1_score(y_test,lgbm_predicted),roc_auc_score(y_test,lgbm_predicted)]\n"
   ]
  },
  {
   "cell_type": "code",
   "execution_count": 71,
   "id": "0cdddfc0",
   "metadata": {},
   "outputs": [
    {
     "data": {
      "text/html": [
       "<div>\n",
       "<style scoped>\n",
       "    .dataframe tbody tr th:only-of-type {\n",
       "        vertical-align: middle;\n",
       "    }\n",
       "\n",
       "    .dataframe tbody tr th {\n",
       "        vertical-align: top;\n",
       "    }\n",
       "\n",
       "    .dataframe thead th {\n",
       "        text-align: right;\n",
       "    }\n",
       "</style>\n",
       "<table border=\"1\" class=\"dataframe\">\n",
       "  <thead>\n",
       "    <tr style=\"text-align: right;\">\n",
       "      <th></th>\n",
       "      <th>lr</th>\n",
       "      <th>dt</th>\n",
       "      <th>rf</th>\n",
       "      <th>xgb</th>\n",
       "      <th>svc</th>\n",
       "      <th>gbm</th>\n",
       "      <th>lgbm</th>\n",
       "    </tr>\n",
       "  </thead>\n",
       "  <tbody>\n",
       "    <tr>\n",
       "      <th>accuracy</th>\n",
       "      <td>0.990286</td>\n",
       "      <td>0.991820</td>\n",
       "      <td>0.992331</td>\n",
       "      <td>0.994888</td>\n",
       "      <td>0.989264</td>\n",
       "      <td>0.994376</td>\n",
       "      <td>0.994888</td>\n",
       "    </tr>\n",
       "    <tr>\n",
       "      <th>precision</th>\n",
       "      <td>0.696429</td>\n",
       "      <td>0.790698</td>\n",
       "      <td>0.750000</td>\n",
       "      <td>0.844444</td>\n",
       "      <td>0.678571</td>\n",
       "      <td>0.894737</td>\n",
       "      <td>0.860465</td>\n",
       "    </tr>\n",
       "    <tr>\n",
       "      <th>recall</th>\n",
       "      <td>0.951220</td>\n",
       "      <td>0.829268</td>\n",
       "      <td>0.951220</td>\n",
       "      <td>0.926829</td>\n",
       "      <td>0.926829</td>\n",
       "      <td>0.829268</td>\n",
       "      <td>0.902439</td>\n",
       "    </tr>\n",
       "    <tr>\n",
       "      <th>f1</th>\n",
       "      <td>0.804124</td>\n",
       "      <td>0.809524</td>\n",
       "      <td>0.838710</td>\n",
       "      <td>0.883721</td>\n",
       "      <td>0.783505</td>\n",
       "      <td>0.860759</td>\n",
       "      <td>0.880952</td>\n",
       "    </tr>\n",
       "    <tr>\n",
       "      <th>auc</th>\n",
       "      <td>0.971171</td>\n",
       "      <td>0.912284</td>\n",
       "      <td>0.972216</td>\n",
       "      <td>0.961587</td>\n",
       "      <td>0.958715</td>\n",
       "      <td>0.913590</td>\n",
       "      <td>0.949653</td>\n",
       "    </tr>\n",
       "  </tbody>\n",
       "</table>\n",
       "</div>"
      ],
      "text/plain": [
       "                 lr        dt        rf       xgb       svc       gbm  \\\n",
       "accuracy   0.990286  0.991820  0.992331  0.994888  0.989264  0.994376   \n",
       "precision  0.696429  0.790698  0.750000  0.844444  0.678571  0.894737   \n",
       "recall     0.951220  0.829268  0.951220  0.926829  0.926829  0.829268   \n",
       "f1         0.804124  0.809524  0.838710  0.883721  0.783505  0.860759   \n",
       "auc        0.971171  0.912284  0.972216  0.961587  0.958715  0.913590   \n",
       "\n",
       "               lgbm  \n",
       "accuracy   0.994888  \n",
       "precision  0.860465  \n",
       "recall     0.902439  \n",
       "f1         0.880952  \n",
       "auc        0.949653  "
      ]
     },
     "execution_count": 71,
     "metadata": {},
     "output_type": "execute_result"
    }
   ],
   "source": [
    "result=pd.DataFrame([lr_list,dt_list,rf_list,xgb_list,svc_list,gbm_list,lgbm_list]).T\n",
    "result.columns=['lr','dt','rf','xgb','svc','gbm','lgbm']\n",
    "result.index=['accuracy','precision','recall','f1','auc']\n",
    "result"
   ]
  },
  {
   "cell_type": "code",
   "execution_count": 72,
   "id": "dc00771b",
   "metadata": {
    "scrolled": true
   },
   "outputs": [
    {
     "data": {
      "text/html": [
       "<div>\n",
       "<style scoped>\n",
       "    .dataframe tbody tr th:only-of-type {\n",
       "        vertical-align: middle;\n",
       "    }\n",
       "\n",
       "    .dataframe tbody tr th {\n",
       "        vertical-align: top;\n",
       "    }\n",
       "\n",
       "    .dataframe thead th {\n",
       "        text-align: right;\n",
       "    }\n",
       "</style>\n",
       "<table border=\"1\" class=\"dataframe\">\n",
       "  <thead>\n",
       "    <tr style=\"text-align: right;\">\n",
       "      <th></th>\n",
       "      <th>accuracy</th>\n",
       "      <th>precision</th>\n",
       "      <th>recall</th>\n",
       "      <th>f1</th>\n",
       "      <th>auc</th>\n",
       "    </tr>\n",
       "  </thead>\n",
       "  <tbody>\n",
       "    <tr>\n",
       "      <th>lr</th>\n",
       "      <td>0.990286</td>\n",
       "      <td>0.696429</td>\n",
       "      <td>0.951220</td>\n",
       "      <td>0.804124</td>\n",
       "      <td>0.971171</td>\n",
       "    </tr>\n",
       "    <tr>\n",
       "      <th>dt</th>\n",
       "      <td>0.991820</td>\n",
       "      <td>0.790698</td>\n",
       "      <td>0.829268</td>\n",
       "      <td>0.809524</td>\n",
       "      <td>0.912284</td>\n",
       "    </tr>\n",
       "    <tr>\n",
       "      <th>rf</th>\n",
       "      <td>0.992331</td>\n",
       "      <td>0.750000</td>\n",
       "      <td>0.951220</td>\n",
       "      <td>0.838710</td>\n",
       "      <td>0.972216</td>\n",
       "    </tr>\n",
       "    <tr>\n",
       "      <th>xgb</th>\n",
       "      <td>0.994888</td>\n",
       "      <td>0.844444</td>\n",
       "      <td>0.926829</td>\n",
       "      <td>0.883721</td>\n",
       "      <td>0.961587</td>\n",
       "    </tr>\n",
       "    <tr>\n",
       "      <th>svc</th>\n",
       "      <td>0.989264</td>\n",
       "      <td>0.678571</td>\n",
       "      <td>0.926829</td>\n",
       "      <td>0.783505</td>\n",
       "      <td>0.958715</td>\n",
       "    </tr>\n",
       "    <tr>\n",
       "      <th>gbm</th>\n",
       "      <td>0.994376</td>\n",
       "      <td>0.894737</td>\n",
       "      <td>0.829268</td>\n",
       "      <td>0.860759</td>\n",
       "      <td>0.913590</td>\n",
       "    </tr>\n",
       "    <tr>\n",
       "      <th>lgbm</th>\n",
       "      <td>0.994888</td>\n",
       "      <td>0.860465</td>\n",
       "      <td>0.902439</td>\n",
       "      <td>0.880952</td>\n",
       "      <td>0.949653</td>\n",
       "    </tr>\n",
       "  </tbody>\n",
       "</table>\n",
       "</div>"
      ],
      "text/plain": [
       "      accuracy  precision    recall        f1       auc\n",
       "lr    0.990286   0.696429  0.951220  0.804124  0.971171\n",
       "dt    0.991820   0.790698  0.829268  0.809524  0.912284\n",
       "rf    0.992331   0.750000  0.951220  0.838710  0.972216\n",
       "xgb   0.994888   0.844444  0.926829  0.883721  0.961587\n",
       "svc   0.989264   0.678571  0.926829  0.783505  0.958715\n",
       "gbm   0.994376   0.894737  0.829268  0.860759  0.913590\n",
       "lgbm  0.994888   0.860465  0.902439  0.880952  0.949653"
      ]
     },
     "execution_count": 72,
     "metadata": {},
     "output_type": "execute_result"
    }
   ],
   "source": [
    "result.T"
   ]
  },
  {
   "cell_type": "code",
   "execution_count": 74,
   "id": "e14a18ef",
   "metadata": {},
   "outputs": [
    {
     "name": "stderr",
     "output_type": "stream",
     "text": [
      "ntree_limit is deprecated, use `iteration_range` or model slicing instead.\n"
     ]
    }
   ],
   "source": [
    "import shap\n",
    "explainer = shap.TreeExplainer(xgb) # Tree model Shap Value 확인 객체 지정\n",
    "shap_values = explainer.shap_values(X_test)"
   ]
  },
  {
   "cell_type": "code",
   "execution_count": 82,
   "id": "e4d06549",
   "metadata": {},
   "outputs": [
    {
     "data": {
      "text/plain": [
       "r_forks                  5.000719\n",
       "r_watch                  1.951208\n",
       "r_readme_trend           0.818104\n",
       "r_total_issue            0.433225\n",
       "r_open_issues            0.405657\n",
       "o_followers              0.298557\n",
       "c_star_avg               0.280885\n",
       "r_tag_num                0.136948\n",
       "o_des_size               0.128758\n",
       "r_description_trend      0.126352\n",
       "c_codesize               0.124652\n",
       "r_pr_total               0.122009\n",
       "o_type_User              0.117987\n",
       "o_following              0.113898\n",
       "r_pr_open                0.094143\n",
       "o_repos                  0.072963\n",
       "o_gists                  0.066258\n",
       "o_type_Organization      0.062525\n",
       "c_following_avg          0.060957\n",
       "r_num_language           0.055550\n",
       "c_descriptionsize_avg    0.045638\n",
       "c_commit_active          0.029138\n",
       "c_commit_avg             0.024261\n",
       "c_followers_avg          0.011941\n",
       "c_repos_avg              0.007276\n",
       "c_gits_avg               0.006286\n",
       "r_contributor_count      0.001763\n",
       "r_tag_trend              0.000246\n",
       "c_influence              0.000000\n",
       "dtype: float32"
      ]
     },
     "execution_count": 82,
     "metadata": {},
     "output_type": "execute_result"
    }
   ],
   "source": [
    "mean_shap_feature_values_for_recommend = pd.DataFrame(shap_values, columns=X.columns).abs().mean(axis=0).sort_values(ascending=False)\n",
    "mean_shap_feature_values_for_recommend"
   ]
  },
  {
   "cell_type": "code",
   "execution_count": 77,
   "id": "03a9f47c",
   "metadata": {},
   "outputs": [
    {
     "data": {
      "image/png": "[encoded data removed]",
      "text/plain": [
       "<Figure size 576x540 with 1 Axes>"
      ]
     },
     "metadata": {
      "needs_background": "light"
     },
     "output_type": "display_data"
    }
   ],
   "source": [
    "shap.summary_plot(shap_values, X, plot_type='bar',max_display=15)"
   ]
  },
  {
   "cell_type": "code",
   "execution_count": 83,
   "id": "bd1a7724",
   "metadata": {},
   "outputs": [
    {
     "data": {
      "image/png": "[encoded data removed]",
      "text/plain": [
       "<Figure size 576x540 with 1 Axes>"
      ]
     },
     "metadata": {
      "needs_background": "light"
     },
     "output_type": "display_data"
    }
   ],
   "source": [
    "explainer2 = shap.TreeExplainer(lgbm) # Tree model Shap Value 확인 객체 지정\n",
    "shap_values2 = explainer2.shap_values(X_test)\n",
    "\n",
    "shap.summary_plot(shap_values2[0], X, plot_type='bar',max_display=15)"
   ]
  },
  {
   "cell_type": "code",
   "execution_count": 85,
   "id": "c9c08246",
   "metadata": {},
   "outputs": [
    {
     "data": {
      "text/plain": [
       "r_forks                10.772177\n",
       "r_watch                 4.704057\n",
       "r_readme_trend          1.577518\n",
       "o_type_User             0.949149\n",
       "r_total_issue           0.889281\n",
       "c_star_avg              0.775023\n",
       "o_followers             0.545476\n",
       "r_open_issues           0.504568\n",
       "r_pr_total              0.442711\n",
       "o_following             0.392878\n",
       "o_des_size              0.367123\n",
       "o_gists                 0.356799\n",
       "r_num_language          0.295848\n",
       "o_repos                 0.231898\n",
       "r_description_trend     0.213758\n",
       "dtype: float64"
      ]
     },
     "execution_count": 85,
     "metadata": {},
     "output_type": "execute_result"
    }
   ],
   "source": [
    "mean_shap_feature_values_for_recommend2 = pd.DataFrame(shap_values2[0], columns=X.columns).abs().mean(axis=0).sort_values(ascending=False)[:15]\n",
    "mean_shap_feature_values_for_recommend2"
   ]
  },
  {
   "cell_type": "code",
   "execution_count": 87,
   "id": "3ddfc614",
   "metadata": {},
   "outputs": [
    {
     "data": {
      "image/png": "[encoded data removed]",
      "text/plain": [
       "<Figure size 576x540 with 2 Axes>"
      ]
     },
     "metadata": {
      "needs_background": "light"
     },
     "output_type": "display_data"
    }
   ],
   "source": [
    "shap.summary_plot(shap_values, X_test, plot_type='violin',max_display=15)"
   ]
  },
  {
   "cell_type": "code",
   "execution_count": null,
   "id": "5b14da02",
   "metadata": {},
   "outputs": [],
   "source": []
  },
  {
   "cell_type": "code",
   "execution_count": null,
   "id": "8dc622ac",
   "metadata": {},
   "outputs": [],
   "source": []
  },
  {
   "cell_type": "code",
   "execution_count": 143,
   "id": "0e70b315",
   "metadata": {},
   "outputs": [
    {
     "data": {
      "image/png": "[encoded data removed]",
      "text/plain": [
       "<IPython.core.display.Image object>"
      ]
     },
     "execution_count": 143,
     "metadata": {},
     "output_type": "execute_result"
    }
   ],
   "source": [
    "from sklearn.tree import export_graphviz\n",
    "import pydotplus\n",
    "from IPython.display import Image\n",
    "col_names=X_label\n",
    "dot_data = export_graphviz(dt, out_file=None, feature_names=col_names,\n",
    "                          class_names=['0','1'], filled=True, rounded=True, special_characters=True)\n",
    "graph = pydotplus.graph_from_dot_data(dot_data)\n",
    "Image(graph.create_png())"
   ]
  },
  {
   "cell_type": "code",
   "execution_count": null,
   "id": "c6dfe2f9",
   "metadata": {},
   "outputs": [],
   "source": [
    "import operator\n",
    "def plot_feature_importances2(model):\n",
    "\n",
    "    n_features = X.shape[1]\n",
    "    new_array=dict(zip(X.columns , model.feature_importances_))\n",
    "    \n",
    "    assending=sorted(new_array.items(),key=operator.itemgetter(1))\n",
    "    new_columns=[assending[i][0] for i in range(len(assending))]\n",
    "    new_imp=[assending[i][1] for i in range(len(assending))]\n",
    "    \n",
    "    \n",
    "    plt.barh(range(n_features), new_imp, align='center')\n",
    "    \n",
    "    columns= new_columns\n",
    "    \n",
    "    plt.yticks(range(n_features),columns)\n",
    "\n",
    "    plt.xlabel(\"importances\")\n",
    "\n",
    "    plt.ylabel(\"feature\")\n",
    "    plt.ylim(14, n_features)\n",
    "    "
   ]
  },
  {
   "cell_type": "code",
   "execution_count": 194,
   "id": "d6999497",
   "metadata": {},
   "outputs": [
    {
     "data": {
      "image/png": "[encoded data removed]",
      "text/plain": [
       "<Figure size 432x288 with 1 Axes>"
      ]
     },
     "metadata": {
      "needs_background": "light"
     },
     "output_type": "display_data"
    }
   ],
   "source": [
    "plot_feature_importances2(lgbm)\n",
    "plt.show()"
   ]
  },
  {
   "cell_type": "code",
   "execution_count": null,
   "id": "a60c466f",
   "metadata": {},
   "outputs": [],
   "source": [
    "plot_feature_importances2(xgb)\n",
    "plt.show()"
   ]
  },
  {
   "cell_type": "code",
   "execution_count": null,
   "id": "c225e899",
   "metadata": {},
   "outputs": [],
   "source": []
  }
 ],
 "metadata": {
  "kernelspec": {
   "display_name": "Python 3",
   "language": "python",
   "name": "python3"
  },
  "language_info": {
   "codemirror_mode": {
    "name": "ipython",
    "version": 3
   },
   "file_extension": ".py",
   "mimetype": "text/x-python",
   "name": "python",
   "nbconvert_exporter": "python",
   "pygments_lexer": "ipython3",
   "version": "3.7.10"
  }
 },
 "nbformat": 4,
 "nbformat_minor": 5
}
